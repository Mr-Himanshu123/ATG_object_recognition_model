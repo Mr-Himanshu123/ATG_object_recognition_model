{
  "nbformat": 4,
  "nbformat_minor": 0,
  "metadata": {
    "colab": {
      "provenance": [],
      "authorship_tag": "ABX9TyOD89qCHUGzOmRaC4siHVHk",
      "include_colab_link": true
    },
    "kernelspec": {
      "name": "python3",
      "display_name": "Python 3"
    },
    "language_info": {
      "name": "python"
    }
  },
  "cells": [
    {
      "cell_type": "markdown",
      "metadata": {
        "id": "view-in-github",
        "colab_type": "text"
      },
      "source": [
        "<a href=\"https://colab.research.google.com/github/Mr-Himanshu123/ATG_object_recognition_model/blob/main/ATG_Project.ipynb\" target=\"_parent\"><img src=\"https://colab.research.google.com/assets/colab-badge.svg\" alt=\"Open In Colab\"/></a>"
      ]
    },
    {
      "cell_type": "code",
      "source": [
        "# Install necessary libraries\n",
        "!pip install pdf2image\n",
        "!pip install pytesseract\n",
        "!pip install opencv-python\n",
        "\n",
        "# Import libraries\n",
        "import os\n",
        "from pdf2image import convert_from_path\n",
        "import cv2\n",
        "import pytesseract\n",
        "from google.colab import files\n",
        "\n",
        "# Mount Google Drive (if your PDFs are stored in Google Drive)\n",
        "from google.colab import drive\n",
        "drive.mount('/content/drive')\n"
      ],
      "metadata": {
        "colab": {
          "base_uri": "https://localhost:8080/"
        },
        "id": "9E4RrShrtwU9",
        "outputId": "9a9d40b5-d34a-4a22-a55a-e26420d79586"
      },
      "execution_count": null,
      "outputs": [
        {
          "output_type": "stream",
          "name": "stdout",
          "text": [
            "Requirement already satisfied: pdf2image in /usr/local/lib/python3.10/dist-packages (1.17.0)\n",
            "Requirement already satisfied: pillow in /usr/local/lib/python3.10/dist-packages (from pdf2image) (9.4.0)\n",
            "Requirement already satisfied: pytesseract in /usr/local/lib/python3.10/dist-packages (0.3.10)\n",
            "Requirement already satisfied: packaging>=21.3 in /usr/local/lib/python3.10/dist-packages (from pytesseract) (23.2)\n",
            "Requirement already satisfied: Pillow>=8.0.0 in /usr/local/lib/python3.10/dist-packages (from pytesseract) (9.4.0)\n",
            "Requirement already satisfied: opencv-python in /usr/local/lib/python3.10/dist-packages (4.8.0.76)\n",
            "Requirement already satisfied: numpy>=1.21.2 in /usr/local/lib/python3.10/dist-packages (from opencv-python) (1.23.5)\n",
            "Drive already mounted at /content/drive; to attempt to forcibly remount, call drive.mount(\"/content/drive\", force_remount=True).\n"
          ]
        }
      ]
    },
    {
      "cell_type": "code",
      "source": [
        "# Install poppler-utils\n",
        "!apt-get install -y poppler-utils\n",
        "\n",
        "# Update the PATH variable to include poppler\n",
        "import os\n",
        "os.environ[\"PATH\"] += \":/usr/lib/python3/dist-packages/popplerqt5\"\n",
        "\n",
        "# Import necessary libraries\n",
        "from pdf2image import convert_from_path\n",
        "import cv2\n",
        "import pytesseract\n",
        "from google.colab import files\n"
      ],
      "metadata": {
        "colab": {
          "base_uri": "https://localhost:8080/"
        },
        "id": "qDxlaHU7uvRi",
        "outputId": "87bc8fb7-02b4-49f4-b45b-b5200ba53cb7"
      },
      "execution_count": null,
      "outputs": [
        {
          "output_type": "stream",
          "name": "stdout",
          "text": [
            "Reading package lists... Done\n",
            "Building dependency tree... Done\n",
            "Reading state information... Done\n",
            "poppler-utils is already the newest version (22.02.0-2ubuntu0.3).\n",
            "0 upgraded, 0 newly installed, 0 to remove and 31 not upgraded.\n"
          ]
        }
      ]
    },
    {
      "cell_type": "code",
      "source": [
        "def extract_images_from_pdf(pdf_path, output_folder):\n",
        "    images = convert_from_path(pdf_path, 500)  # Adjust the DPI as needed\n",
        "\n",
        "    # Save images to the output folder\n",
        "    for i, image in enumerate(images):\n",
        "        image.save(os.path.join(output_folder, f'page_{i+1}.png'), 'PNG')\n",
        "\n",
        "# Example usage\n",
        "pdf_path = '/content/drive/MyDrive/ATG Project - object recongnize model/Tortilicious ( A Fast Food App) (Community).pdf'\n",
        "output_folder = '/content/drive/MyDrive/ATG Project - object recongnize model/upload folder'\n",
        "extract_images_from_pdf(pdf_path, output_folder)\n"
      ],
      "metadata": {
        "id": "BBaS7OEItw2L"
      },
      "execution_count": null,
      "outputs": []
    },
    {
      "cell_type": "code",
      "source": [
        "def extract_text_from_image(image_path):\n",
        "    image = cv2.imread(image_path)\n",
        "    gray = cv2.cvtColor(image, cv2.COLOR_BGR2GRAY)\n",
        "    text = pytesseract.image_to_string(gray)\n",
        "    return text"
      ],
      "metadata": {
        "id": "kq4oGuw3AT1f"
      },
      "execution_count": null,
      "outputs": []
    },
    {
      "cell_type": "code",
      "source": [
        "import os\n",
        "\n",
        "# Set the path to the folder containing images\n",
        "image_folder = '/content/drive/MyDrive/ATG Project - object recongnize model/upload folder'\n",
        "\n",
        "# List all files in the folder\n",
        "image_files = [f for f in os.listdir(image_folder) if f.endswith('.png')]\n",
        "\n",
        "# Loop through each image file and extract text\n",
        "for image_file in image_files:\n",
        "    image_path = os.path.join(image_folder, image_file)\n",
        "    text = extract_text_from_image(image_path)\n",
        "    print(f'Text from {image_file}:\\n{text}\\n{\"-\"*50}')\n"
      ],
      "metadata": {
        "colab": {
          "base_uri": "https://localhost:8080/"
        },
        "id": "7ld1aPLJ_Nsa",
        "outputId": "300a825f-a33d-4543-902e-03446c310299"
      },
      "execution_count": null,
      "outputs": [
        {
          "output_type": "stream",
          "name": "stdout",
          "text": [
            "Text from page_1.png:\n",
            "Tortilicious!\n",
            "\n",
            " \n",
            "\f\n",
            "--------------------------------------------------\n",
            "Text from page_2.png:\n",
            "COME acelin\n",
            "\n",
            " \n",
            "\n",
            " \n",
            "\n",
            "Email or Username\n",
            "\n",
            "Password\n",
            "\n",
            "Forgot password?\n",
            "\n",
            " \n",
            "\n",
            "OR\n",
            "\n",
            "O\n",
            "\n",
            "    \n",
            "\n",
            "Fa»\n",
            "i\n",
            "\f\n",
            "--------------------------------------------------\n",
            "Text from page_3.png:\n",
            "COME acelin\n",
            "\n",
            " \n",
            "\n",
            " \n",
            "\n",
            "Login Sign Up\n",
            "\n",
            "Email or Username\n",
            "\n",
            "Password\n",
            "\n",
            "Confirm Password\n",
            "\n",
            "Forgot password?\n",
            "\n",
            "Sign Up\n",
            "\n",
            " \n",
            "\n",
            "OR\n",
            "\n",
            " \n",
            "\n",
            "© yv\n",
            "\n",
            "  \n",
            "\n",
            "Fa»\n",
            "i\n",
            "\f\n",
            "--------------------------------------------------\n",
            "Text from page_4.png:\n",
            " \n",
            "\n",
            "Choose the\n",
            "food you love!\n",
            "\n",
            "   \n",
            "\n",
            "Search Q\n",
            "Categories\n",
            "Burgers Pizzas Fries\n",
            "\n",
            " \n",
            "\n",
            "Hamburger - 149/- Veg Moburg - 99/-\n",
            "\n",
            " \n",
            "\f\n",
            "--------------------------------------------------\n"
          ]
        }
      ]
    },
    {
      "cell_type": "code",
      "source": [
        "import cv2\n",
        "import pytesseract\n",
        "import os\n",
        "\n",
        "# Define the function to extract text using OCR\n",
        "def extract_text_with_ocr(image_path):\n",
        "    image = cv2.imread(image_path)\n",
        "    gray = cv2.cvtColor(image, cv2.COLOR_BGR2GRAY)\n",
        "    text = pytesseract.image_to_string(gray)\n",
        "    return text"
      ],
      "metadata": {
        "id": "Gio0ZfbjEQQ3"
      },
      "execution_count": null,
      "outputs": []
    },
    {
      "cell_type": "code",
      "source": [
        "def identify_elements(text):\n",
        "    elements = []\n",
        "\n",
        "    # Check for the presence of key phrases to identify elements\n",
        "    if any(phrase in text.lower() for phrase in [\"Tortilicious\"]):\n",
        "        elements.append(\"Logo Image\")\n",
        "\n",
        "    if any(phrase in text.lower() for phrase in [\"Email or Username\", \"Password\", \"Forgot password\", \"OR\"]):\n",
        "        elements.append(\"Form Fields\")\n",
        "\n",
        "    if any(phrase in text.lower() for phrase in [\"Login Sign Up\", \"Confirm Password\", \"Sign Up\", \"©\"]):\n",
        "        elements.append(\"Login/Sign Up Section\")\n",
        "\n",
        "    if any(phrase in text.lower() for phrase in [\"Choose the\", \"food you love!\", \"Search Q\", \"Categories\", \"Burgers\", \"Pizzas\", \"Fries\"]):\n",
        "        elements.append(\"Menu Section\")\n",
        "\n",
        "    if any(phrase in text.lower() for phrase in [\"Search Q\"]):\n",
        "        elements.append(\"Search Bar\")\n",
        "\n",
        "    if any(phrase in text.lower() for phrase in [\"Hamburger\", \"Veg Moburg\"]):\n",
        "        elements.append(\"Menu Items\")\n",
        "\n",
        "    if any(phrase in text.lower() for phrase in [\"breadcrumb\"]):\n",
        "        elements.append(\"Breadcrumb\")\n",
        "\n",
        "    if any(phrase in text.lower() for phrase in [\"checkbox\"]):\n",
        "        elements.append(\"Checkbox\")\n",
        "\n",
        "    if any(phrase in text.lower() for phrase in [\"container\"]):\n",
        "        elements.append(\"Container\")\n",
        "\n",
        "    if any(phrase in text.lower() for phrase in [\"dropdown\"]):\n",
        "        elements.append(\"Dropdown\")\n",
        "\n",
        "    if any(phrase in text.lower() for phrase in [\"button\"]):\n",
        "        elements.append(\"Button\")\n",
        "\n",
        "    if any(phrase in text.lower() for phrase in [\"logo\", \"image\"]):\n",
        "        elements.append(\"Logo Image\")\n",
        "\n",
        "    if any(phrase in text.lower() for phrase in [\"navigation dots\"]):\n",
        "        elements.append(\"Navigation Dots\")\n",
        "\n",
        "    if any(phrase in text.lower() for phrase in [\"text\"]):\n",
        "        elements.append(\"Text\")\n",
        "\n",
        "    if any(phrase in text.lower() for phrase in [\"link\"]):\n",
        "        elements.append(\"Link\")\n",
        "\n",
        "    if any(phrase in text.lower() for phrase in [\"input field\"]):\n",
        "        elements.append(\"Input Field\")\n",
        "\n",
        "    if any(phrase in text.lower() for phrase in [\"radio\"]):\n",
        "        elements.append(\"Radio Button\")\n",
        "\n",
        "    if any(phrase in text.lower() for phrase in [\"modal\"]):\n",
        "        elements.append(\"Modal\")\n",
        "\n",
        "    return elements\n",
        "\n",
        "# Example usage\n",
        "for image_file in image_files:\n",
        "    image_path = os.path.join(image_folder, image_file)\n",
        "    text = extract_text_with_ocr(image_path)\n",
        "    print(f'Text from {image_file}:\\n{text}\\n{\"-\"*50}')"
      ],
      "metadata": {
        "colab": {
          "base_uri": "https://localhost:8080/"
        },
        "id": "LtzVy9JuAENz",
        "outputId": "506d773f-5341-43a7-b9e5-c54405088376"
      },
      "execution_count": null,
      "outputs": [
        {
          "output_type": "stream",
          "name": "stdout",
          "text": [
            "Text from page_1.png:\n",
            "Tortilicious!\n",
            "\n",
            " \n",
            "\f\n",
            "--------------------------------------------------\n",
            "Text from page_2.png:\n",
            "COME acelin\n",
            "\n",
            " \n",
            "\n",
            " \n",
            "\n",
            "Email or Username\n",
            "\n",
            "Password\n",
            "\n",
            "Forgot password?\n",
            "\n",
            " \n",
            "\n",
            "OR\n",
            "\n",
            "O\n",
            "\n",
            "    \n",
            "\n",
            "Fa»\n",
            "i\n",
            "\f\n",
            "--------------------------------------------------\n",
            "Text from page_3.png:\n",
            "COME acelin\n",
            "\n",
            " \n",
            "\n",
            " \n",
            "\n",
            "Login Sign Up\n",
            "\n",
            "Email or Username\n",
            "\n",
            "Password\n",
            "\n",
            "Confirm Password\n",
            "\n",
            "Forgot password?\n",
            "\n",
            "Sign Up\n",
            "\n",
            " \n",
            "\n",
            "OR\n",
            "\n",
            " \n",
            "\n",
            "© yv\n",
            "\n",
            "  \n",
            "\n",
            "Fa»\n",
            "i\n",
            "\f\n",
            "--------------------------------------------------\n",
            "Text from page_4.png:\n",
            " \n",
            "\n",
            "Choose the\n",
            "food you love!\n",
            "\n",
            "   \n",
            "\n",
            "Search Q\n",
            "Categories\n",
            "Burgers Pizzas Fries\n",
            "\n",
            " \n",
            "\n",
            "Hamburger - 149/- Veg Moburg - 99/-\n",
            "\n",
            " \n",
            "\f\n",
            "--------------------------------------------------\n"
          ]
        }
      ]
    },
    {
      "cell_type": "code",
      "source": [],
      "metadata": {
        "id": "KRH94W0FMxNO"
      },
      "execution_count": null,
      "outputs": []
    },
    {
      "cell_type": "code",
      "source": [],
      "metadata": {
        "id": "SWx-L3xlRuJS"
      },
      "execution_count": null,
      "outputs": []
    }
  ]
}